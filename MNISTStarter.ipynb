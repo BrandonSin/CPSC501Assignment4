{
  "nbformat": 4,
  "nbformat_minor": 0,
  "metadata": {
    "colab": {
      "name": "MNISTStarter.ipynb",
      "provenance": [],
      "collapsed_sections": [],
      "include_colab_link": true
    },
    "kernelspec": {
      "name": "python3",
      "display_name": "Python 3"
    }
  },
  "cells": [
    {
      "cell_type": "markdown",
      "metadata": {
        "id": "view-in-github",
        "colab_type": "text"
      },
      "source": [
        "<a href=\"https://colab.research.google.com/github/BrandonSin/CPSC501Assignment4/blob/master/MNISTStarter.ipynb\" target=\"_parent\"><img src=\"https://colab.research.google.com/assets/colab-badge.svg\" alt=\"Open In Colab\"/></a>"
      ]
    },
    {
      "cell_type": "code",
      "metadata": {
        "id": "m4eZDEIAx0aH",
        "colab_type": "code",
        "colab": {}
      },
      "source": [
        ""
      ],
      "execution_count": 0,
      "outputs": []
    },
    {
      "cell_type": "code",
      "metadata": {
        "id": "ITCcIDcJx02Q",
        "colab_type": "code",
        "outputId": "7b21b2b8-5547-4851-a687-9575ca7c0651",
        "colab": {
          "base_uri": "https://localhost:8080/",
          "height": 1000
        }
      },
      "source": [
        "import tensorflow as tf\n",
        "\n",
        "try:\n",
        "  # %tensorflow_version only exists in Colab.\n",
        "  %tensorflow_version 2.x\n",
        "except Exception:\n",
        "  pass\n",
        "\n",
        "print(\"--Get data--\")\n",
        "mnist = tf.keras.datasets.mnist\n",
        "(x_train, y_train), (x_test, y_test) = mnist.load_data()\n",
        "\n",
        "print(\"--Process data--\")\n",
        "x_train, x_test = x_train / 255.0, x_test / 255.0\n",
        "\n",
        "print(\"--Make model--\")\n",
        "model = tf.keras.models.Sequential([\n",
        "  \n",
        "  tf.keras.layers.Flatten(input_shape=(28, 28)),\n",
        "  #added another layer\n",
        "  tf.keras.layers.Dense(150, activation='relu'),\n",
        "  tf.keras.layers.Dense(150, activation='relu'),\n",
        "\n",
        "  tf.keras.layers.Dense(10, activation='softmax')\n",
        "])\n",
        "#used Admin Optimizer\n",
        "model.compile(optimizer='adam', loss='sparse_categorical_crossentropy', metrics=['accuracy'])\n",
        "\n",
        "#run 25 times\n",
        "print(\"--Fit model--\")\n",
        "model.fit(x_train, y_train, epochs=25, verbose=2)\n",
        "\n",
        "print(\"--Evaluate model--\")\n",
        "model_loss, model_acc = model.evaluate(x_test,  y_test, verbose=2)\n",
        "#print test results\n",
        "model_loss, model_acc1 = model.evaluate(x_train, y_train, verbose=2)\n",
        "print(f\"Model Loss:    {model_loss:.2f}\")\n",
        "print(f\"Model Training Accuracy: {model_acc1*100:.1f}%\")\n",
        "print(f\"Model Accuray: {model_acc*100:.1f}%\")"
      ],
      "execution_count": 1,
      "outputs": [
        {
          "output_type": "display_data",
          "data": {
            "text/html": [
              "<p style=\"color: red;\">\n",
              "The default version of TensorFlow in Colab will soon switch to TensorFlow 2.x.<br>\n",
              "We recommend you <a href=\"https://www.tensorflow.org/guide/migrate\" target=\"_blank\">upgrade</a> now \n",
              "or ensure your notebook will continue to use TensorFlow 1.x via the <code>%tensorflow_version 1.x</code> magic:\n",
              "<a href=\"https://colab.research.google.com/notebooks/tensorflow_version.ipynb\" target=\"_blank\">more info</a>.</p>\n"
            ],
            "text/plain": [
              "<IPython.core.display.HTML object>"
            ]
          },
          "metadata": {
            "tags": []
          }
        },
        {
          "output_type": "stream",
          "text": [
            "TensorFlow is already loaded. Please restart the runtime to change versions.\n",
            "--Get data--\n",
            "Downloading data from https://storage.googleapis.com/tensorflow/tf-keras-datasets/mnist.npz\n",
            "11493376/11490434 [==============================] - 0s 0us/step\n",
            "--Process data--\n",
            "--Make model--\n",
            "WARNING:tensorflow:From /usr/local/lib/python3.6/dist-packages/tensorflow_core/python/ops/resource_variable_ops.py:1630: calling BaseResourceVariable.__init__ (from tensorflow.python.ops.resource_variable_ops) with constraint is deprecated and will be removed in a future version.\n",
            "Instructions for updating:\n",
            "If using Keras pass *_constraint arguments to layers.\n",
            "--Fit model--\n",
            "Train on 60000 samples\n",
            "Epoch 1/25\n",
            "60000/60000 - 5s - loss: 0.2201 - acc: 0.9344\n",
            "Epoch 2/25\n",
            "60000/60000 - 5s - loss: 0.0911 - acc: 0.9721\n",
            "Epoch 3/25\n",
            "60000/60000 - 5s - loss: 0.0639 - acc: 0.9796\n",
            "Epoch 4/25\n",
            "60000/60000 - 5s - loss: 0.0485 - acc: 0.9845\n",
            "Epoch 5/25\n",
            "60000/60000 - 5s - loss: 0.0380 - acc: 0.9876\n",
            "Epoch 6/25\n",
            "60000/60000 - 6s - loss: 0.0311 - acc: 0.9902\n",
            "Epoch 7/25\n",
            "60000/60000 - 5s - loss: 0.0279 - acc: 0.9907\n",
            "Epoch 8/25\n",
            "60000/60000 - 5s - loss: 0.0227 - acc: 0.9927\n",
            "Epoch 9/25\n",
            "60000/60000 - 5s - loss: 0.0195 - acc: 0.9935\n",
            "Epoch 10/25\n",
            "60000/60000 - 5s - loss: 0.0199 - acc: 0.9936\n",
            "Epoch 11/25\n",
            "60000/60000 - 5s - loss: 0.0160 - acc: 0.9948\n",
            "Epoch 12/25\n",
            "60000/60000 - 5s - loss: 0.0163 - acc: 0.9948\n",
            "Epoch 13/25\n",
            "60000/60000 - 5s - loss: 0.0138 - acc: 0.9955\n",
            "Epoch 14/25\n",
            "60000/60000 - 5s - loss: 0.0142 - acc: 0.9953\n",
            "Epoch 15/25\n",
            "60000/60000 - 5s - loss: 0.0127 - acc: 0.9961\n",
            "Epoch 16/25\n",
            "60000/60000 - 5s - loss: 0.0100 - acc: 0.9965\n",
            "Epoch 17/25\n",
            "60000/60000 - 5s - loss: 0.0117 - acc: 0.9961\n",
            "Epoch 18/25\n",
            "60000/60000 - 5s - loss: 0.0110 - acc: 0.9965\n",
            "Epoch 19/25\n",
            "60000/60000 - 5s - loss: 0.0088 - acc: 0.9975\n",
            "Epoch 20/25\n",
            "60000/60000 - 9s - loss: 0.0119 - acc: 0.9966\n",
            "Epoch 21/25\n",
            "60000/60000 - 5s - loss: 0.0103 - acc: 0.9969\n",
            "Epoch 22/25\n",
            "60000/60000 - 5s - loss: 0.0097 - acc: 0.9969\n",
            "Epoch 23/25\n",
            "60000/60000 - 5s - loss: 0.0083 - acc: 0.9975\n",
            "Epoch 24/25\n",
            "60000/60000 - 5s - loss: 0.0096 - acc: 0.9969\n",
            "Epoch 25/25\n",
            "60000/60000 - 5s - loss: 0.0087 - acc: 0.9975\n",
            "--Evaluate model--\n",
            "10000/10000 - 0s - loss: 0.1351 - acc: 0.9808\n",
            "60000/60000 - 2s - loss: 0.0078 - acc: 0.9977\n",
            "Model Loss:    0.01\n",
            "Model Training Accuracy: 99.8%\n",
            "Model Accuray: 98.1%\n"
          ],
          "name": "stdout"
        }
      ]
    },
    {
      "cell_type": "code",
      "metadata": {
        "id": "lEr7LlIYYGci",
        "colab_type": "code",
        "colab": {
          "base_uri": "https://localhost:8080/",
          "height": 34
        },
        "outputId": "617dd736-75fb-41f1-86db-0cf22f31d395"
      },
      "source": [
        "#Save Model to notMNIST.h5\n",
        "#https://medium.com/@ml_kid/how-to-save-our-model-to-google-drive-and-reuse-it-2c1028058cb2\n",
        "!pip install -U -q PyDrive\n",
        "from pydrive.auth import GoogleAuth\n",
        "from pydrive.drive import GoogleDrive \n",
        "from google.colab import auth \n",
        "from oauth2client.client import GoogleCredentials\n",
        "\n",
        "auth.authenticate_user()\n",
        "gauth = GoogleAuth()\n",
        "gauth.credentials = GoogleCredentials.get_application_default()                       \n",
        "drive = GoogleDrive(gauth)\n",
        "\n",
        "\n",
        "model.save('MNIST.h5')\n",
        "model_file = drive.CreateFile({'title' : 'MNIST.h5'})                      \n",
        "model_file.SetContentFile('MNIST.h5')                       \n",
        "model_file.Upload()\n",
        "\n",
        "# download to google drive                       \n",
        "drive.CreateFile({'id': model_file.get('id')})"
      ],
      "execution_count": 2,
      "outputs": [
        {
          "output_type": "execute_result",
          "data": {
            "text/plain": [
              "GoogleDriveFile({'id': '1KgCvluwvrtkstBIAP2HZkbmwYPUrBseY'})"
            ]
          },
          "metadata": {
            "tags": []
          },
          "execution_count": 2
        }
      ]
    },
    {
      "cell_type": "code",
      "metadata": {
        "id": "n45Ftlo-YG0_",
        "colab_type": "code",
        "colab": {}
      },
      "source": [
        ""
      ],
      "execution_count": 0,
      "outputs": []
    },
    {
      "cell_type": "code",
      "metadata": {
        "id": "2xi0JupqYHFZ",
        "colab_type": "code",
        "colab": {}
      },
      "source": [
        ""
      ],
      "execution_count": 0,
      "outputs": []
    },
    {
      "cell_type": "code",
      "metadata": {
        "colab_type": "code",
        "id": "QW1jj9CL5Tqe",
        "colab": {}
      },
      "source": [
        ""
      ],
      "execution_count": 0,
      "outputs": []
    },
    {
      "cell_type": "code",
      "metadata": {
        "id": "0Vc4ePZwERJW",
        "colab_type": "code",
        "colab": {}
      },
      "source": [
        "from google.colab import files\n",
        "files.download('MNIST.h5')"
      ],
      "execution_count": 0,
      "outputs": []
    }
  ]
}