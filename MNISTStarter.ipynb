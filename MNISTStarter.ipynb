{
  "nbformat": 4,
  "nbformat_minor": 0,
  "metadata": {
    "colab": {
      "name": "MNISTStarter.ipynb",
      "provenance": [],
      "collapsed_sections": [],
      "include_colab_link": true
    },
    "kernelspec": {
      "name": "python3",
      "display_name": "Python 3"
    }
  },
  "cells": [
    {
      "cell_type": "markdown",
      "metadata": {
        "id": "view-in-github",
        "colab_type": "text"
      },
      "source": [
        "<a href=\"https://colab.research.google.com/github/BrandonSin/CPSC501Assignment4/blob/master/MNISTStarter.ipynb\" target=\"_parent\"><img src=\"https://colab.research.google.com/assets/colab-badge.svg\" alt=\"Open In Colab\"/></a>"
      ]
    },
    {
      "cell_type": "code",
      "metadata": {
        "id": "m4eZDEIAx0aH",
        "colab_type": "code",
        "colab": {}
      },
      "source": [
        ""
      ],
      "execution_count": 0,
      "outputs": []
    },
    {
      "cell_type": "code",
      "metadata": {
        "id": "ITCcIDcJx02Q",
        "colab_type": "code",
        "outputId": "aaebde64-57d1-4b37-b554-310405f5f59d",
        "colab": {
          "base_uri": "https://localhost:8080/",
          "height": 1000
        }
      },
      "source": [
        "import tensorflow as tf\n",
        "\n",
        "try:\n",
        "  # %tensorflow_version only exists in Colab.\n",
        "  %tensorflow_version 2.x\n",
        "except Exception:\n",
        "  pass\n",
        "\n",
        "print(\"--Get data--\")\n",
        "mnist = tf.keras.datasets.mnist\n",
        "(x_train, y_train), (x_test, y_test) = mnist.load_data()\n",
        "\n",
        "print(\"--Process data--\")\n",
        "x_train, x_test = x_train / 255.0, x_test / 255.0\n",
        "\n",
        "print(\"--Make model--\")\n",
        "model = tf.keras.models.Sequential([\n",
        "  \n",
        "  tf.keras.layers.Flatten(input_shape=(28, 28)),\n",
        "  #added another layer\n",
        "  tf.keras.layers.Dense(150, activation='relu'),\n",
        "  tf.keras.layers.Dense(10, activation='softmax')\n",
        "])\n",
        "#used Admin Optimizer\n",
        "model.compile(optimizer='adam', loss='sparse_categorical_crossentropy', metrics=['accuracy'])\n",
        "\n",
        "#run 25 times\n",
        "print(\"--Fit model--\")\n",
        "model.fit(x_train, y_train, epochs=25, verbose=2)\n",
        "\n",
        "print(\"--Evaluate model--\")\n",
        "model_loss, model_acc = model.evaluate(x_test,  y_test, verbose=2)\n",
        "#print test results\n",
        "model_loss, model_acc1 = model.evaluate(x_train, y_train, verbose=2)\n",
        "print(f\"Model Loss:    {model_loss:.2f}\")\n",
        "print(f\"Model Training Accuracy: {model_acc1*100:.1f}%\")\n",
        "print(f\"Model Accuray: {model_acc*100:.1f}%\")"
      ],
      "execution_count": 0,
      "outputs": [
        {
          "output_type": "display_data",
          "data": {
            "text/html": [
              "<p style=\"color: red;\">\n",
              "The default version of TensorFlow in Colab will soon switch to TensorFlow 2.x.<br>\n",
              "We recommend you <a href=\"https://www.tensorflow.org/guide/migrate\" target=\"_blank\">upgrade</a> now \n",
              "or ensure your notebook will continue to use TensorFlow 1.x via the <code>%tensorflow_version 1.x</code> magic:\n",
              "<a href=\"https://colab.research.google.com/notebooks/tensorflow_version.ipynb\" target=\"_blank\">more info</a>.</p>\n"
            ],
            "text/plain": [
              "<IPython.core.display.HTML object>"
            ]
          },
          "metadata": {
            "tags": []
          }
        },
        {
          "output_type": "stream",
          "text": [
            "TensorFlow is already loaded. Please restart the runtime to change versions.\n",
            "--Get data--\n",
            "Downloading data from https://storage.googleapis.com/tensorflow/tf-keras-datasets/mnist.npz\n",
            "11493376/11490434 [==============================] - 0s 0us/step\n",
            "--Process data--\n",
            "--Make model--\n",
            "WARNING:tensorflow:From /usr/local/lib/python3.6/dist-packages/tensorflow_core/python/ops/resource_variable_ops.py:1630: calling BaseResourceVariable.__init__ (from tensorflow.python.ops.resource_variable_ops) with constraint is deprecated and will be removed in a future version.\n",
            "Instructions for updating:\n",
            "If using Keras pass *_constraint arguments to layers.\n",
            "--Fit model--\n",
            "Train on 60000 samples\n",
            "Epoch 1/25\n",
            "60000/60000 - 5s - loss: 0.2494 - acc: 0.9290\n",
            "Epoch 2/25\n",
            "60000/60000 - 4s - loss: 0.1086 - acc: 0.9674\n",
            "Epoch 3/25\n",
            "60000/60000 - 4s - loss: 0.0738 - acc: 0.9773\n",
            "Epoch 4/25\n",
            "60000/60000 - 4s - loss: 0.0550 - acc: 0.9829\n",
            "Epoch 5/25\n",
            "60000/60000 - 4s - loss: 0.0412 - acc: 0.9874\n",
            "Epoch 6/25\n",
            "60000/60000 - 5s - loss: 0.0331 - acc: 0.9897\n",
            "Epoch 7/25\n",
            "60000/60000 - 5s - loss: 0.0246 - acc: 0.9923\n",
            "Epoch 8/25\n",
            "60000/60000 - 4s - loss: 0.0200 - acc: 0.9938\n",
            "Epoch 9/25\n",
            "60000/60000 - 5s - loss: 0.0172 - acc: 0.9947\n",
            "Epoch 10/25\n",
            "60000/60000 - 5s - loss: 0.0140 - acc: 0.9956\n",
            "Epoch 11/25\n",
            "60000/60000 - 4s - loss: 0.0114 - acc: 0.9964\n",
            "Epoch 12/25\n",
            "60000/60000 - 4s - loss: 0.0106 - acc: 0.9965\n",
            "Epoch 13/25\n",
            "60000/60000 - 4s - loss: 0.0083 - acc: 0.9977\n",
            "Epoch 14/25\n",
            "60000/60000 - 4s - loss: 0.0072 - acc: 0.9977\n",
            "Epoch 15/25\n",
            "60000/60000 - 4s - loss: 0.0069 - acc: 0.9979\n",
            "Epoch 16/25\n",
            "60000/60000 - 4s - loss: 0.0067 - acc: 0.9981\n",
            "Epoch 17/25\n",
            "60000/60000 - 4s - loss: 0.0061 - acc: 0.9980\n",
            "Epoch 18/25\n",
            "60000/60000 - 4s - loss: 0.0049 - acc: 0.9984\n",
            "Epoch 19/25\n",
            "60000/60000 - 4s - loss: 0.0057 - acc: 0.9981\n",
            "Epoch 20/25\n",
            "60000/60000 - 4s - loss: 0.0051 - acc: 0.9983\n",
            "Epoch 21/25\n",
            "60000/60000 - 4s - loss: 0.0037 - acc: 0.9990\n",
            "Epoch 22/25\n",
            "60000/60000 - 4s - loss: 0.0042 - acc: 0.9987\n",
            "Epoch 23/25\n",
            "60000/60000 - 4s - loss: 0.0051 - acc: 0.9983\n",
            "Epoch 24/25\n",
            "60000/60000 - 4s - loss: 0.0036 - acc: 0.9987\n",
            "Epoch 25/25\n",
            "60000/60000 - 4s - loss: 0.0045 - acc: 0.9985\n",
            "--Evaluate model--\n",
            "10000/10000 - 0s - loss: 0.1128 - acc: 0.9784\n",
            "60000/60000 - 2s - loss: 0.0048 - acc: 0.9983\n",
            "Model Loss:    0.00\n",
            "Model Training Accuracy: 99.8%\n",
            "Model Accuray: 97.8%\n"
          ],
          "name": "stdout"
        }
      ]
    },
    {
      "cell_type": "code",
      "metadata": {
        "id": "lEr7LlIYYGci",
        "colab_type": "code",
        "colab": {}
      },
      "source": [
        ""
      ],
      "execution_count": 0,
      "outputs": []
    },
    {
      "cell_type": "code",
      "metadata": {
        "id": "n45Ftlo-YG0_",
        "colab_type": "code",
        "colab": {}
      },
      "source": [
        ""
      ],
      "execution_count": 0,
      "outputs": []
    },
    {
      "cell_type": "code",
      "metadata": {
        "id": "2xi0JupqYHFZ",
        "colab_type": "code",
        "colab": {}
      },
      "source": [
        ""
      ],
      "execution_count": 0,
      "outputs": []
    },
    {
      "cell_type": "code",
      "metadata": {
        "colab_type": "code",
        "id": "QW1jj9CL5Tqe",
        "colab": {}
      },
      "source": [
        ""
      ],
      "execution_count": 0,
      "outputs": []
    },
    {
      "cell_type": "code",
      "metadata": {
        "id": "0Vc4ePZwERJW",
        "colab_type": "code",
        "outputId": "b047d310-c2b4-428c-fa46-b426742bd853",
        "colab": {
          "base_uri": "https://localhost:8080/",
          "height": 310
        }
      },
      "source": [
        "from google.colab import files\n",
        "files.download('MNIST.h5')"
      ],
      "execution_count": 0,
      "outputs": [
        {
          "output_type": "error",
          "ename": "FileNotFoundError",
          "evalue": "ignored",
          "traceback": [
            "\u001b[0;31m---------------------------------------------------------------------------\u001b[0m",
            "\u001b[0;31mFileNotFoundError\u001b[0m                         Traceback (most recent call last)",
            "\u001b[0;32m<ipython-input-3-95d729e15b7c>\u001b[0m in \u001b[0;36m<module>\u001b[0;34m()\u001b[0m\n\u001b[1;32m      1\u001b[0m \u001b[0;32mfrom\u001b[0m \u001b[0mgoogle\u001b[0m\u001b[0;34m.\u001b[0m\u001b[0mcolab\u001b[0m \u001b[0;32mimport\u001b[0m \u001b[0mfiles\u001b[0m\u001b[0;34m\u001b[0m\u001b[0;34m\u001b[0m\u001b[0m\n\u001b[0;32m----> 2\u001b[0;31m \u001b[0mfiles\u001b[0m\u001b[0;34m.\u001b[0m\u001b[0mdownload\u001b[0m\u001b[0;34m(\u001b[0m\u001b[0;34m'MNIST.h5'\u001b[0m\u001b[0;34m)\u001b[0m\u001b[0;34m\u001b[0m\u001b[0;34m\u001b[0m\u001b[0m\n\u001b[0m",
            "\u001b[0;32m/usr/local/lib/python3.6/dist-packages/google/colab/files.py\u001b[0m in \u001b[0;36mdownload\u001b[0;34m(filename)\u001b[0m\n\u001b[1;32m    142\u001b[0m       \u001b[0;32mraise\u001b[0m \u001b[0mOSError\u001b[0m\u001b[0;34m(\u001b[0m\u001b[0mmsg\u001b[0m\u001b[0;34m)\u001b[0m\u001b[0;34m\u001b[0m\u001b[0;34m\u001b[0m\u001b[0m\n\u001b[1;32m    143\u001b[0m     \u001b[0;32melse\u001b[0m\u001b[0;34m:\u001b[0m\u001b[0;34m\u001b[0m\u001b[0;34m\u001b[0m\u001b[0m\n\u001b[0;32m--> 144\u001b[0;31m       \u001b[0;32mraise\u001b[0m \u001b[0mFileNotFoundError\u001b[0m\u001b[0;34m(\u001b[0m\u001b[0mmsg\u001b[0m\u001b[0;34m)\u001b[0m  \u001b[0;31m# pylint: disable=undefined-variable\u001b[0m\u001b[0;34m\u001b[0m\u001b[0;34m\u001b[0m\u001b[0m\n\u001b[0m\u001b[1;32m    145\u001b[0m \u001b[0;34m\u001b[0m\u001b[0m\n\u001b[1;32m    146\u001b[0m   \u001b[0mstarted\u001b[0m \u001b[0;34m=\u001b[0m \u001b[0m_threading\u001b[0m\u001b[0;34m.\u001b[0m\u001b[0mEvent\u001b[0m\u001b[0;34m(\u001b[0m\u001b[0;34m)\u001b[0m\u001b[0;34m\u001b[0m\u001b[0;34m\u001b[0m\u001b[0m\n",
            "\u001b[0;31mFileNotFoundError\u001b[0m: Cannot find file: MNIST.h5"
          ]
        }
      ]
    }
  ]
}