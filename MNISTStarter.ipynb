{
  "nbformat": 4,
  "nbformat_minor": 0,
  "metadata": {
    "colab": {
      "name": "MNISTStarter.ipynb",
      "provenance": [],
      "collapsed_sections": [],
      "include_colab_link": true
    },
    "kernelspec": {
      "name": "python3",
      "display_name": "Python 3"
    }
  },
  "cells": [
    {
      "cell_type": "markdown",
      "metadata": {
        "id": "view-in-github",
        "colab_type": "text"
      },
      "source": [
        "<a href=\"https://colab.research.google.com/github/BrandonSin/CPSC501Assignment4/blob/master/MNISTStarter.ipynb\" target=\"_parent\"><img src=\"https://colab.research.google.com/assets/colab-badge.svg\" alt=\"Open In Colab\"/></a>"
      ]
    },
    {
      "cell_type": "code",
      "metadata": {
        "id": "m4eZDEIAx0aH",
        "colab_type": "code",
        "colab": {}
      },
      "source": [
        ""
      ],
      "execution_count": 0,
      "outputs": []
    },
    {
      "cell_type": "code",
      "metadata": {
        "id": "ITCcIDcJx02Q",
        "colab_type": "code",
        "outputId": "d82be389-5fd6-4817-d3ae-de10fd7ee464",
        "colab": {
          "base_uri": "https://localhost:8080/",
          "height": 1000
        }
      },
      "source": [
        "import tensorflow as tf\n",
        "\n",
        "try:\n",
        "  # %tensorflow_version only exists in Colab.\n",
        "  %tensorflow_version 2.x\n",
        "except Exception:\n",
        "  pass\n",
        "\n",
        "print(\"--Get data--\")\n",
        "mnist = tf.keras.datasets.mnist\n",
        "(x_train, y_train), (x_test, y_test) = mnist.load_data()\n",
        "\n",
        "print(\"--Process data--\")\n",
        "x_train, x_test = x_train / 255.0, x_test / 255.0\n",
        "\n",
        "print(\"--Make model--\")\n",
        "model = tf.keras.models.Sequential([\n",
        "  \n",
        "  tf.keras.layers.Flatten(input_shape=(28, 28)),\n",
        "  #added another layer\n",
        "  tf.keras.layers.Dense(150, activation='relu'),\n",
        "  tf.keras.layers.Dense(150, activation='relu'),\n",
        "\n",
        "  tf.keras.layers.Dense(10, activation='softmax')\n",
        "])\n",
        "#used Admin Optimizer\n",
        "model.compile(optimizer='adam', loss='sparse_categorical_crossentropy', metrics=['accuracy'])\n",
        "\n",
        "#run 25 times\n",
        "print(\"--Fit model--\")\n",
        "model.fit(x_train, y_train, epochs=25, verbose=2)\n",
        "\n",
        "print(\"--Evaluate model--\")\n",
        "model_loss, model_acc = model.evaluate(x_test,  y_test, verbose=2)\n",
        "#print test results\n",
        "model_loss, model_acc1 = model.evaluate(x_train, y_train, verbose=2)\n",
        "print(f\"Model Loss:    {model_loss:.2f}\")\n",
        "print(f\"Model Training Accuracy: {model_acc1*100:.1f}%\")\n",
        "print(f\"Model Accuray: {model_acc*100:.1f}%\")"
      ],
      "execution_count": 2,
      "outputs": [
        {
          "output_type": "stream",
          "text": [
            "TensorFlow is already loaded. Please restart the runtime to change versions.\n",
            "--Get data--\n",
            "--Process data--\n",
            "--Make model--\n",
            "--Fit model--\n",
            "Train on 60000 samples\n",
            "Epoch 1/25\n",
            "60000/60000 - 5s - loss: 0.2236 - acc: 0.9337\n",
            "Epoch 2/25\n",
            "60000/60000 - 5s - loss: 0.0918 - acc: 0.9724\n",
            "Epoch 3/25\n",
            "60000/60000 - 5s - loss: 0.0662 - acc: 0.9791\n",
            "Epoch 4/25\n",
            "60000/60000 - 5s - loss: 0.0492 - acc: 0.9845\n",
            "Epoch 5/25\n",
            "60000/60000 - 5s - loss: 0.0381 - acc: 0.9877\n",
            "Epoch 6/25\n",
            "60000/60000 - 5s - loss: 0.0336 - acc: 0.9888\n",
            "Epoch 7/25\n",
            "60000/60000 - 5s - loss: 0.0267 - acc: 0.9913\n",
            "Epoch 8/25\n",
            "60000/60000 - 5s - loss: 0.0235 - acc: 0.9921\n",
            "Epoch 9/25\n",
            "60000/60000 - 5s - loss: 0.0197 - acc: 0.9936\n",
            "Epoch 10/25\n",
            "60000/60000 - 5s - loss: 0.0194 - acc: 0.9933\n",
            "Epoch 11/25\n",
            "60000/60000 - 5s - loss: 0.0167 - acc: 0.9945\n",
            "Epoch 12/25\n",
            "60000/60000 - 5s - loss: 0.0175 - acc: 0.9943\n",
            "Epoch 13/25\n",
            "60000/60000 - 5s - loss: 0.0137 - acc: 0.9956\n",
            "Epoch 14/25\n",
            "60000/60000 - 5s - loss: 0.0135 - acc: 0.9955\n",
            "Epoch 15/25\n",
            "60000/60000 - 5s - loss: 0.0119 - acc: 0.9962\n",
            "Epoch 16/25\n",
            "60000/60000 - 5s - loss: 0.0117 - acc: 0.9963\n",
            "Epoch 17/25\n",
            "60000/60000 - 5s - loss: 0.0110 - acc: 0.9963\n",
            "Epoch 18/25\n",
            "60000/60000 - 5s - loss: 0.0106 - acc: 0.9969\n",
            "Epoch 19/25\n",
            "60000/60000 - 5s - loss: 0.0111 - acc: 0.9965\n",
            "Epoch 20/25\n",
            "60000/60000 - 5s - loss: 0.0099 - acc: 0.9970\n",
            "Epoch 21/25\n",
            "60000/60000 - 4s - loss: 0.0119 - acc: 0.9963\n",
            "Epoch 22/25\n",
            "60000/60000 - 5s - loss: 0.0093 - acc: 0.9974\n",
            "Epoch 23/25\n",
            "60000/60000 - 5s - loss: 0.0123 - acc: 0.9965\n",
            "Epoch 24/25\n",
            "60000/60000 - 5s - loss: 0.0072 - acc: 0.9979\n",
            "Epoch 25/25\n",
            "60000/60000 - 5s - loss: 0.0093 - acc: 0.9971\n",
            "--Evaluate model--\n",
            "10000/10000 - 0s - loss: 0.1376 - acc: 0.9809\n",
            "60000/60000 - 2s - loss: 0.0058 - acc: 0.9983\n",
            "Model Loss:    0.01\n",
            "Model Training Accuracy: 99.8%\n",
            "Model Accuray: 98.1%\n"
          ],
          "name": "stdout"
        }
      ]
    },
    {
      "cell_type": "code",
      "metadata": {
        "id": "lEr7LlIYYGci",
        "colab_type": "code",
        "colab": {}
      },
      "source": [
        ""
      ],
      "execution_count": 0,
      "outputs": []
    },
    {
      "cell_type": "code",
      "metadata": {
        "id": "n45Ftlo-YG0_",
        "colab_type": "code",
        "colab": {}
      },
      "source": [
        ""
      ],
      "execution_count": 0,
      "outputs": []
    },
    {
      "cell_type": "code",
      "metadata": {
        "id": "2xi0JupqYHFZ",
        "colab_type": "code",
        "colab": {}
      },
      "source": [
        ""
      ],
      "execution_count": 0,
      "outputs": []
    },
    {
      "cell_type": "code",
      "metadata": {
        "colab_type": "code",
        "id": "QW1jj9CL5Tqe",
        "colab": {}
      },
      "source": [
        ""
      ],
      "execution_count": 0,
      "outputs": []
    },
    {
      "cell_type": "code",
      "metadata": {
        "id": "0Vc4ePZwERJW",
        "colab_type": "code",
        "outputId": "b047d310-c2b4-428c-fa46-b426742bd853",
        "colab": {
          "base_uri": "https://localhost:8080/",
          "height": 310
        }
      },
      "source": [
        "from google.colab import files\n",
        "files.download('MNIST.h5')"
      ],
      "execution_count": 0,
      "outputs": [
        {
          "output_type": "error",
          "ename": "FileNotFoundError",
          "evalue": "ignored",
          "traceback": [
            "\u001b[0;31m---------------------------------------------------------------------------\u001b[0m",
            "\u001b[0;31mFileNotFoundError\u001b[0m                         Traceback (most recent call last)",
            "\u001b[0;32m<ipython-input-3-95d729e15b7c>\u001b[0m in \u001b[0;36m<module>\u001b[0;34m()\u001b[0m\n\u001b[1;32m      1\u001b[0m \u001b[0;32mfrom\u001b[0m \u001b[0mgoogle\u001b[0m\u001b[0;34m.\u001b[0m\u001b[0mcolab\u001b[0m \u001b[0;32mimport\u001b[0m \u001b[0mfiles\u001b[0m\u001b[0;34m\u001b[0m\u001b[0;34m\u001b[0m\u001b[0m\n\u001b[0;32m----> 2\u001b[0;31m \u001b[0mfiles\u001b[0m\u001b[0;34m.\u001b[0m\u001b[0mdownload\u001b[0m\u001b[0;34m(\u001b[0m\u001b[0;34m'MNIST.h5'\u001b[0m\u001b[0;34m)\u001b[0m\u001b[0;34m\u001b[0m\u001b[0;34m\u001b[0m\u001b[0m\n\u001b[0m",
            "\u001b[0;32m/usr/local/lib/python3.6/dist-packages/google/colab/files.py\u001b[0m in \u001b[0;36mdownload\u001b[0;34m(filename)\u001b[0m\n\u001b[1;32m    142\u001b[0m       \u001b[0;32mraise\u001b[0m \u001b[0mOSError\u001b[0m\u001b[0;34m(\u001b[0m\u001b[0mmsg\u001b[0m\u001b[0;34m)\u001b[0m\u001b[0;34m\u001b[0m\u001b[0;34m\u001b[0m\u001b[0m\n\u001b[1;32m    143\u001b[0m     \u001b[0;32melse\u001b[0m\u001b[0;34m:\u001b[0m\u001b[0;34m\u001b[0m\u001b[0;34m\u001b[0m\u001b[0m\n\u001b[0;32m--> 144\u001b[0;31m       \u001b[0;32mraise\u001b[0m \u001b[0mFileNotFoundError\u001b[0m\u001b[0;34m(\u001b[0m\u001b[0mmsg\u001b[0m\u001b[0;34m)\u001b[0m  \u001b[0;31m# pylint: disable=undefined-variable\u001b[0m\u001b[0;34m\u001b[0m\u001b[0;34m\u001b[0m\u001b[0m\n\u001b[0m\u001b[1;32m    145\u001b[0m \u001b[0;34m\u001b[0m\u001b[0m\n\u001b[1;32m    146\u001b[0m   \u001b[0mstarted\u001b[0m \u001b[0;34m=\u001b[0m \u001b[0m_threading\u001b[0m\u001b[0;34m.\u001b[0m\u001b[0mEvent\u001b[0m\u001b[0;34m(\u001b[0m\u001b[0;34m)\u001b[0m\u001b[0;34m\u001b[0m\u001b[0;34m\u001b[0m\u001b[0m\n",
            "\u001b[0;31mFileNotFoundError\u001b[0m: Cannot find file: MNIST.h5"
          ]
        }
      ]
    }
  ]
}